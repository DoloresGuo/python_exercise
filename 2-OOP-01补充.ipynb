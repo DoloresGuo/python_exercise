{
 "cells": [
  {
   "cell_type": "code",
   "execution_count": 2,
   "metadata": {},
   "outputs": [
    {
     "name": "stdout",
     "output_type": "stream",
     "text": [
      "My name is yaona.\n",
      "My age is 19.\n",
      "Hello World\n"
     ]
    }
   ],
   "source": [
    "class Teacher():\n",
    "    name = \"sana\"\n",
    "    age = 19\n",
    "    \n",
    "#有self的形参成为非绑定类的方法，可以通过对象访问\n",
    "    def say(self):\n",
    "        self.name = \"yaona\"\n",
    "        self.age = 19\n",
    "        print(\"My name is {0}.\".format(self.name))\n",
    "        print(\"My age is {0}.\".format(self.age))\n",
    "#没有self是绑定类的方法\n",
    "    def sayAgain():\n",
    "        print(\"Hello World\")\n",
    "\n",
    "t = Teacher()\n",
    "t.say()\n",
    "#调用绑定类函数使用类名\n",
    "Teacher.sayAgain()"
   ]
  },
  {
   "cell_type": "code",
   "execution_count": 13,
   "metadata": {},
   "outputs": [
    {
     "name": "stdout",
     "output_type": "stream",
     "text": [
      "xiaoben\n",
      "13\n",
      "********************\n",
      "xiaoben\n",
      "13\n",
      "********************\n",
      "dana\n",
      "12\n",
      "********************\n",
      "xiaozhu\n",
      "14\n"
     ]
    }
   ],
   "source": [
    "# \n",
    "class A():\n",
    "    name = \"dana\"\n",
    "    age = 12\n",
    "    \n",
    "    def __init__(self):\n",
    "        self.name = \"xiaoben\"\n",
    "        self.age = 13\n",
    "    def say(self):\n",
    "        print(self.name)\n",
    "        print(self.age)\n",
    "        \n",
    "class B():\n",
    "    name = \"xiaozhu\"\n",
    "    age = 14\n",
    "    \n",
    "# 系统会默认把a作为参数传入函数    \n",
    "a = A()\n",
    "a.say()\n",
    "print(\"*\" * 20)\n",
    "\n",
    "#此时，self被a替代\n",
    "A.say(a)\n",
    "print(\"*\" * 20)\n",
    "\n",
    "#同样可以把A作为参数传入\n",
    "A.say(A)\n",
    "print(\"*\" * 20)\n",
    "#此时，传入的是类实例B,因为B具有name和age属性，所以不会报错\n",
    "A.say(B)"
   ]
  },
  {
   "cell_type": "code",
   "execution_count": 2,
   "metadata": {},
   "outputs": [
    {
     "name": "stdout",
     "output_type": "stream",
     "text": [
      "aa\n"
     ]
    },
    {
     "ename": "AttributeError",
     "evalue": "'Person' object has no attribute '__age'",
     "output_type": "error",
     "traceback": [
      "\u001b[0;31m-----------------------------------------------------------------------\u001b[0m",
      "\u001b[0;31mAttributeError\u001b[0m                        Traceback (most recent call last)",
      "\u001b[0;32m<ipython-input-2-090d550a6ae7>\u001b[0m in \u001b[0;36m<module>\u001b[0;34m()\u001b[0m\n\u001b[1;32m      6\u001b[0m \u001b[0mp\u001b[0m \u001b[0;34m=\u001b[0m \u001b[0mPerson\u001b[0m\u001b[0;34m(\u001b[0m\u001b[0;34m)\u001b[0m\u001b[0;34m\u001b[0m\u001b[0m\n\u001b[1;32m      7\u001b[0m \u001b[0mprint\u001b[0m\u001b[0;34m(\u001b[0m\u001b[0mp\u001b[0m\u001b[0;34m.\u001b[0m\u001b[0mname\u001b[0m\u001b[0;34m)\u001b[0m\u001b[0;34m\u001b[0m\u001b[0m\n\u001b[0;32m----> 8\u001b[0;31m \u001b[0mprint\u001b[0m\u001b[0;34m(\u001b[0m\u001b[0mp\u001b[0m\u001b[0;34m.\u001b[0m\u001b[0m__age\u001b[0m\u001b[0;34m)\u001b[0m \u001b[0;31m#无权访问私有变量，直接报错找不到变量\u001b[0m\u001b[0;34m\u001b[0m\u001b[0m\n\u001b[0m",
      "\u001b[0;31mAttributeError\u001b[0m: 'Person' object has no attribute '__age'"
     ]
    }
   ],
   "source": [
    "# 私有变量案例\n",
    "class Person():\n",
    "    name = \"aa\" #公有变量\n",
    "    __age = 18  #私有变量\n",
    "    \n",
    "p = Person()\n",
    "print(p.name)\n",
    "print(p.__age) #无权访问私有变量，直接报错找不到变量"
   ]
  },
  {
   "cell_type": "code",
   "execution_count": 6,
   "metadata": {},
   "outputs": [
    {
     "name": "stdout",
     "output_type": "stream",
     "text": [
      "{'__module__': '__main__', 'name': 'aa', '_Person__age': 18, '__dict__': <attribute '__dict__' of 'Person' objects>, '__weakref__': <attribute '__weakref__' of 'Person' objects>, '__doc__': None}\n",
      "********************\n",
      "18\n"
     ]
    }
   ],
   "source": [
    "print(Person.__dict__) #访问类所有变量\n",
    "\n",
    "print(\"*\" * 20)\n",
    "print(p._Person__age) #访问私有变量"
   ]
  },
  {
   "cell_type": "code",
   "execution_count": null,
   "metadata": {
    "collapsed": true
   },
   "outputs": [],
   "source": []
  }
 ],
 "metadata": {
  "kernelspec": {
   "display_name": "Python 3",
   "language": "python",
   "name": "python3"
  },
  "language_info": {
   "codemirror_mode": {
    "name": "ipython",
    "version": 3
   },
   "file_extension": ".py",
   "mimetype": "text/x-python",
   "name": "python",
   "nbconvert_exporter": "python",
   "pygments_lexer": "ipython3",
   "version": "3.6.3"
  }
 },
 "nbformat": 4,
 "nbformat_minor": 2
}

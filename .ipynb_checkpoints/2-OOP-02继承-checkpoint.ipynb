{
 "cells": [
  {
   "cell_type": "code",
   "execution_count": 5,
   "metadata": {},
   "outputs": [
    {
     "name": "stdout",
     "output_type": "stream",
     "text": [
      "NoName\n",
      "25\n"
     ]
    }
   ],
   "source": [
    "# 继承的用法\n",
    "class Person():\n",
    "    name = \"NoName\"\n",
    "    age = 18\n",
    "    __score = 59 #考试成绩设为私有变量\n",
    "    _petname = \"sec\" #小名设为保护的值，子类可以调用\n",
    "    def sleep(self):\n",
    "        print(\"Sleeping...\")\n",
    "        \n",
    "        \n",
    "#子类继承父类，将父类写在括号里\n",
    "class Teacher(Person):\n",
    "    teacher_id = \"9527\"\n",
    "    age = 25\n",
    "    def make_test(self):\n",
    "        print(\"attention\")\n",
    "\n",
    "#测试通过子类访问父类变量\n",
    "t = Teacher()\n",
    "print(t.name)\n",
    "#print(t.__score)父类私有值无法访问\n",
    "print(t.age) #子类中重新赋值age，优先调用子类"
   ]
  },
  {
   "cell_type": "code",
   "execution_count": 1,
   "metadata": {},
   "outputs": [
    {
     "name": "stdout",
     "output_type": "stream",
     "text": [
      "make some moner\n",
      "attention\n"
     ]
    }
   ],
   "source": [
    "# 子类扩充父类功能\n",
    "class Person():\n",
    "    name = \"NoName\"\n",
    "    age = 18\n",
    "    __score = 59 \n",
    "    _petname = \"sec\" \n",
    "    def sleep(self):\n",
    "        print(\"Sleeping...\")\n",
    "    def work(self):\n",
    "        print(\"make some moner\")\n",
    "        \n",
    "class Teacher(Person):\n",
    "    teacher_id = \"9527\"\n",
    "    age = 25\n",
    "    def make_test(self):\n",
    "        print(\"attention\")\n",
    "# 扩充父类的功能只需要调用父类相应的函数       \n",
    "    def work(self):\n",
    "        Person.work(self)\n",
    "        self.make_test()\n",
    "        \n",
    "t = Teacher()\n",
    "t.work()"
   ]
  },
  {
   "cell_type": "code",
   "execution_count": 4,
   "metadata": {},
   "outputs": [
    {
     "name": "stdout",
     "output_type": "stream",
     "text": [
      "I'm init in dog\n"
     ]
    }
   ],
   "source": [
    "# 构造函数的概念\n",
    "\n",
    "# 继承中的构造函数 -1\n",
    "\n",
    "class Dog():\n",
    "    # __init__就是构造函数\n",
    "    # 每次实例化的是都，第一个被调用\n",
    "    # 因为主要工作时进行初始化，所以得名\n",
    "    def __init__(self):\n",
    "        print(\"I'm init in dog\")\n",
    "        \n",
    "# 实例化的时候，括号里的参数需要跟构造函数相匹配，这里自动调用了Dog的构造函数\n",
    "kaka = Dog()"
   ]
  },
  {
   "cell_type": "code",
   "execution_count": 10,
   "metadata": {},
   "outputs": [
    {
     "name": "stdout",
     "output_type": "stream",
     "text": [
      "I'm init in dog\n",
      "Paxing Animal\n"
     ]
    }
   ],
   "source": [
    "# 继承中的构造函数 -2\n",
    "\n",
    "class Animal():\n",
    "    pass\n",
    "\n",
    "class PaxingAni(Animal):\n",
    "    def __init__(self):\n",
    "        print(\"Paxing Animal\")\n",
    "    \n",
    "class Dog(PaxingAni):\n",
    "    def __init__(self):\n",
    "        print(\"I'm init in dog\")\n",
    "        \n",
    "# 因为找到了构造函数，则不在查找父类的构造函数\n",
    "kaka = Dog()\n",
    "\n",
    "class Cat(PaxingAni):\n",
    "    pass\n",
    "\n",
    "# 此时应该自动调用构造函数，因为Cat没有构造函数，所以查找父类构造函数\n",
    "# 在Paxing Animal中查到了构造函数，则停止向上查找\n",
    "c = Cat()"
   ]
  },
  {
   "cell_type": "code",
   "execution_count": 18,
   "metadata": {},
   "outputs": [
    {
     "name": "stdout",
     "output_type": "stream",
     "text": [
      "I'm init in dog\n"
     ]
    },
    {
     "ename": "TypeError",
     "evalue": "__init__() missing 1 required positional argument: 'name'",
     "output_type": "error",
     "traceback": [
      "\u001b[0;31m---------------------------------------------------------------------------\u001b[0m",
      "\u001b[0;31mTypeError\u001b[0m                                 Traceback (most recent call last)",
      "\u001b[0;32m<ipython-input-18-a5d4b87ad459>\u001b[0m in \u001b[0;36m<module>\u001b[0;34m()\u001b[0m\n\u001b[1;32m     17\u001b[0m     \u001b[0;32mpass\u001b[0m\u001b[0;34m\u001b[0m\u001b[0m\n\u001b[1;32m     18\u001b[0m \u001b[0;34m\u001b[0m\u001b[0m\n\u001b[0;32m---> 19\u001b[0;31m \u001b[0mc\u001b[0m \u001b[0;34m=\u001b[0m \u001b[0mCat\u001b[0m\u001b[0;34m(\u001b[0m\u001b[0;34m)\u001b[0m\u001b[0;34m\u001b[0m\u001b[0m\n\u001b[0m\u001b[1;32m     20\u001b[0m \u001b[0;31m# 此时，由于Cat没有构造函数，则向上查找\u001b[0m\u001b[0;34m\u001b[0m\u001b[0;34m\u001b[0m\u001b[0m\n\u001b[1;32m     21\u001b[0m \u001b[0;31m# 因为PaxingAni的构造函数需要两个参数，实例化时只给了一个，报错\u001b[0m\u001b[0;34m\u001b[0m\u001b[0;34m\u001b[0m\u001b[0m\n",
      "\u001b[0;31mTypeError\u001b[0m: __init__() missing 1 required positional argument: 'name'"
     ]
    }
   ],
   "source": [
    "# 继承中的构造函数 -3\n",
    "\n",
    "class Animal():\n",
    "    pass\n",
    "\n",
    "class PaxingAni(Animal):\n",
    "    def __init__(self,name):\n",
    "        print(\"Paxing Animal {0}\".format(name))\n",
    "    \n",
    "class Dog(PaxingAni):\n",
    "    def __init__(self):\n",
    "        print(\"I'm init in dog\")\n",
    "\n",
    "d = Dog() #可以找到狗的构造函数\n",
    "\n",
    "class Cat(PaxingAni):\n",
    "    pass\n",
    "\n",
    "c = Cat()\n",
    "# 此时，由于Cat没有构造函数，则向上查找\n",
    "# 因为PaxingAni的构造函数需要两个参数，实例化时只给了一个，报错"
   ]
  },
  {
   "cell_type": "code",
   "execution_count": 24,
   "metadata": {},
   "outputs": [
    {
     "name": "stdout",
     "output_type": "stream",
     "text": [
      "Animal\n",
      "Animal\n"
     ]
    }
   ],
   "source": [
    "# 继承中的构造函数 -4\n",
    "\n",
    "class Animal():\n",
    "    def __init__(self):\n",
    "        print(\"Animal\")\n",
    "\n",
    "class PaxingAni(Animal):\n",
    "    pass\n",
    "    \n",
    "class Dog(PaxingAni):\n",
    "    pass\n",
    "\n",
    "d = Dog() \n",
    "\n",
    "class Cat(PaxingAni):\n",
    "    pass\n",
    "\n",
    "c = Cat()"
   ]
  },
  {
   "cell_type": "code",
   "execution_count": 36,
   "metadata": {},
   "outputs": [
    {
     "name": "stdout",
     "output_type": "stream",
     "text": [
      "(<class '__main__.A'>, <class 'object'>)\n",
      "(<class '__main__.B'>, <class '__main__.A'>, <class 'object'>)\n",
      "(<class '__main__.C'>, <class '__main__.B'>, <class '__main__.A'>, <class 'object'>)\n"
     ]
    }
   ],
   "source": [
    "# super函数\n",
    "class A():\n",
    "    pass\n",
    "class B(A):\n",
    "    pass\n",
    "class C(B):\n",
    "    pass\n",
    "\n",
    "print(A.__mro__)#mro可用作查父类\n",
    "print(B.__mro__)#B类含A类和object类\n",
    "print(C.__mro__)#从下往上依次顺序"
   ]
  },
  {
   "cell_type": "code",
   "execution_count": 34,
   "metadata": {},
   "outputs": [
    {
     "name": "stdout",
     "output_type": "stream",
     "text": [
      "I am flying...\n",
      "I am swimming...\n",
      "Working...\n",
      "********************\n",
      "Working...\n"
     ]
    }
   ],
   "source": [
    "# 单继承和多继承\n",
    "\n",
    "class Fish():\n",
    "    def __init__(self,name):\n",
    "        self.name = name\n",
    "    def swim(self):\n",
    "        print(\"I am swimming...\")\n",
    "        \n",
    "class Bird():\n",
    "    def __init__(self,name):\n",
    "        self.name = name        \n",
    "    def fly(self):\n",
    "        print(\"I am flying...\")\n",
    "        \n",
    "class Person():\n",
    "    def __init__(self,name):\n",
    "        self.name = name\n",
    "    def worked(self):\n",
    "        print(\"Working...\")\n",
    "        \n",
    "# 多继承的例子\n",
    "class SuperMan(Person,Bird,Fish):\n",
    "    pass\n",
    "\n",
    "# 单继承的例子\n",
    "class Student(Person):\n",
    "    def __init__(self,name):\n",
    "        self.name = name\n",
    "        \n",
    "# 实例化多继承\n",
    "s = SuperMan(\"yueyue\")\n",
    "s.fly()\n",
    "s.swim()\n",
    "s.worked()\n",
    "\n",
    "print(\"*\" * 20)\n",
    "\n",
    "# 实例化单继承\n",
    "c = Student(\"mm\")\n",
    "s.worked()\n",
    "\n"
   ]
  },
  {
   "cell_type": "code",
   "execution_count": 35,
   "metadata": {},
   "outputs": [
    {
     "name": "stdout",
     "output_type": "stream",
     "text": [
      "In init func\n"
     ]
    }
   ],
   "source": [
    "# 构造函数例子\n",
    "\n",
    "class Person():\n",
    "    # 对person类进行实例化的时候\n",
    "    # 姓名要确定\n",
    "    # 年龄要确定\n",
    "    # 地址要确定\n",
    "    def __init__(self):\n",
    "        self.name = \"NoName\"\n",
    "        self.age = 18\n",
    "        self.adress = \"StudentWhonheim\"\n",
    "        print(\"In init func\")\n",
    "        \n",
    "# 实例化一个人\n",
    "\n",
    "p = Person()"
   ]
  },
  {
   "cell_type": "code",
   "execution_count": 40,
   "metadata": {},
   "outputs": [
    {
     "name": "stdout",
     "output_type": "stream",
     "text": [
      "B\n",
      "(<class '__main__.C'>, <class '__main__.B'>, <class '__main__.A'>, <class 'object'>)\n"
     ]
    }
   ],
   "source": [
    "# 构造函数的调用顺序 -1\n",
    "class A():\n",
    "    def __init__(self):\n",
    "        print(\"A\")\n",
    "\n",
    "class B(A):\n",
    "    def __init__(self):\n",
    "        print(\"B\")\n",
    "        \n",
    "class C(B):\n",
    "    pass\n",
    "\n",
    "c = C() #c构造函数调用顺序：按MROS顺序从下往上直到找到为止\n",
    "print(C.__mro__)"
   ]
  },
  {
   "cell_type": "code",
   "execution_count": 43,
   "metadata": {},
   "outputs": [
    {
     "ename": "TypeError",
     "evalue": "__init__() missing 1 required positional argument: 'name'",
     "output_type": "error",
     "traceback": [
      "\u001b[0;31m---------------------------------------------------------------------------\u001b[0m",
      "\u001b[0;31mTypeError\u001b[0m                                 Traceback (most recent call last)",
      "\u001b[0;32m<ipython-input-43-37d7b0a442c6>\u001b[0m in \u001b[0;36m<module>\u001b[0;34m()\u001b[0m\n\u001b[1;32m     12\u001b[0m     \u001b[0;32mpass\u001b[0m\u001b[0;34m\u001b[0m\u001b[0m\n\u001b[1;32m     13\u001b[0m \u001b[0;34m\u001b[0m\u001b[0m\n\u001b[0;32m---> 14\u001b[0;31m \u001b[0mc\u001b[0m \u001b[0;34m=\u001b[0m \u001b[0mC\u001b[0m\u001b[0;34m(\u001b[0m\u001b[0;34m)\u001b[0m \u001b[0;31m#bug：只给了一个参数，缺name参数，参数结构不对应\u001b[0m\u001b[0;34m\u001b[0m\u001b[0m\n\u001b[0m",
      "\u001b[0;31mTypeError\u001b[0m: __init__() missing 1 required positional argument: 'name'"
     ]
    }
   ],
   "source": [
    "# 构造函数的调用顺序 -2\n",
    "class A():\n",
    "    def __init__(self):\n",
    "        print(\"A\")\n",
    "\n",
    "class B(A):\n",
    "    def __init__(self,name):\n",
    "        print(\"B\")\n",
    "        print(name)#需要name参数\n",
    "        \n",
    "class C(B):\n",
    "    pass\n",
    "\n",
    "c = C() #bug：只给了一个参数，缺name参数，参数结构不对应"
   ]
  },
  {
   "cell_type": "code",
   "execution_count": 57,
   "metadata": {},
   "outputs": [
    {
     "name": "stdout",
     "output_type": "stream",
     "text": [
      "B\n",
      "我是C\n",
      "这是C附加的功能\n",
      "******************************\n",
      "B\n",
      "我是D\n",
      "这是D附加的功能\n"
     ]
    }
   ],
   "source": [
    "# 构造函数的调用顺序 -3\n",
    "\n",
    "class A():\n",
    "    def __init__(self):\n",
    "        print(\"A\")\n",
    "\n",
    "class B(A):\n",
    "    def __init__(self,name):\n",
    "        print(\"B\")\n",
    "        print(name)#需要name参数\n",
    "        \n",
    "# 在C中扩展B的构造函数\n",
    "## 通过父类名调用\n",
    "class C(B):\n",
    "    def __init__(self,name):\n",
    "        #首先调用父类构造函数，不用加冒号\n",
    "        B. __init__(self,name)\n",
    "        #再增加自己的功能，与上面平行\n",
    "        print(\"这是C附加的功能\")\n",
    "\n",
    "c = C(\"我是C\") #bug：只给了一个参数，缺name参数\n",
    "\n",
    "print(\"*\" * 30)\n",
    "\n",
    "## 使用super（）函数调用\n",
    "class D(B):#继承父类B\n",
    "    def __init__(self,name):\n",
    "        super(D,self).__init__(name)\n",
    "        print(\"这是D附加的功能\")\n",
    "d = D(\"我是D\")"
   ]
  },
  {
   "cell_type": "code",
   "execution_count": 59,
   "metadata": {},
   "outputs": [
    {
     "name": "stdout",
     "output_type": "stream",
     "text": [
      "(<class '__main__.Tutor'>, <class '__main__.Teacher'>, <class '__main__.Student'>, <class '__main__.Person'>, <class 'object'>)\n",
      "******************************\n",
      "(<class '__main__.TutorM'>, <class '__main__.Person'>, <class '__main__.TeacherMixin'>, <class '__main__.StudentMixin'>, <class 'object'>)\n"
     ]
    }
   ],
   "source": [
    "# Mixin案例\n",
    "\n",
    "class Person():\n",
    "    name = \"gwt\"\n",
    "    age = 16\n",
    "    \n",
    "    def eat(self):\n",
    "        print(\"Eating\")\n",
    "    \n",
    "    def drink(self):\n",
    "        print(\"Drinking\")\n",
    "        \n",
    "    def work(self):\n",
    "        print(\"Working\")\n",
    "\n",
    "## 多继承写法\n",
    "class Teacher(Person):\n",
    "    def work(self):\n",
    "        print(\"Work\")\n",
    "        \n",
    "class Student(Person):\n",
    "    def study(self):\n",
    "        print(\"Study\")\n",
    "        \n",
    "class Tutor(Teacher,Student):\n",
    "    pass\n",
    "\n",
    "t = Tutor()\n",
    "print(Tutor.__mro__)\n",
    "\n",
    "print(\"*\" * 30)\n",
    "\n",
    "## Mixin写法\n",
    "class TeacherMixin():\n",
    "    def work(self):\n",
    "        print(\"Work\")\n",
    "        \n",
    "class StudentMixin():\n",
    "    def study(self):\n",
    "        print(\"Study\")\n",
    "        \n",
    "class TutorM(Person,TeacherMixin,StudentMixin):\n",
    "    pass\n",
    "\n",
    "tt = TutorM()\n",
    "print(TutorM.__mro__)"
   ]
  }
 ],
 "metadata": {
  "kernelspec": {
   "display_name": "Python 3",
   "language": "python",
   "name": "python3"
  },
  "language_info": {
   "codemirror_mode": {
    "name": "ipython",
    "version": 3
   },
   "file_extension": ".py",
   "mimetype": "text/x-python",
   "name": "python",
   "nbconvert_exporter": "python",
   "pygments_lexer": "ipython3",
   "version": "3.6.3"
  }
 },
 "nbformat": 4,
 "nbformat_minor": 2
}

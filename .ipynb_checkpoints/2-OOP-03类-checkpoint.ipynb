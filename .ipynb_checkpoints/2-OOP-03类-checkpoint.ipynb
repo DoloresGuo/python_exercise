{
 "cells": [
  {
   "cell_type": "markdown",
   "metadata": {},
   "source": [
    "# 1. 类的相关函数"
   ]
  },
  {
   "cell_type": "code",
   "execution_count": 3,
   "metadata": {},
   "outputs": [
    {
     "name": "stdout",
     "output_type": "stream",
     "text": [
      "True\n",
      "False\n",
      "True\n"
     ]
    }
   ],
   "source": [
    "# issubclass 判断子类\n",
    "class A():\n",
    "    pass\n",
    "\n",
    "class B(A):\n",
    "    pass\n",
    "\n",
    "class C():\n",
    "    pass\n",
    "\n",
    "print(issubclass(B,A)) #判断Ｂ是否是Ａ的子类\n",
    "print(issubclass(C,A))\n",
    "print(issubclass(B,object))"
   ]
  },
  {
   "cell_type": "code",
   "execution_count": 7,
   "metadata": {},
   "outputs": [
    {
     "name": "stdout",
     "output_type": "stream",
     "text": [
      "True\n",
      "False\n"
     ]
    }
   ],
   "source": [
    "# isinstance 判断对象是否是一个类的实例\n",
    "class A():\n",
    "    pass\n",
    "\n",
    "a = A()\n",
    "\n",
    "print(isinstance(a,A))\n",
    "print(isinstance(A,A))"
   ]
  },
  {
   "cell_type": "code",
   "execution_count": 9,
   "metadata": {},
   "outputs": [
    {
     "name": "stdout",
     "output_type": "stream",
     "text": [
      "True\n",
      "False\n"
     ]
    }
   ],
   "source": [
    "# hasattr 判断对象是否是一个类的成员\n",
    "class A():\n",
    "    name = \"NoName\"\n",
    "    \n",
    "a = A()\n",
    "print(hasattr(a,\"name\"))\n",
    "print(hasattr(a,\"age\"))"
   ]
  },
  {
   "cell_type": "code",
   "execution_count": 2,
   "metadata": {},
   "outputs": [
    {
     "data": {
      "text/plain": [
       "['__class__',\n",
       " '__delattr__',\n",
       " '__dict__',\n",
       " '__dir__',\n",
       " '__doc__',\n",
       " '__eq__',\n",
       " '__format__',\n",
       " '__ge__',\n",
       " '__getattribute__',\n",
       " '__gt__',\n",
       " '__hash__',\n",
       " '__init__',\n",
       " '__init_subclass__',\n",
       " '__le__',\n",
       " '__lt__',\n",
       " '__module__',\n",
       " '__ne__',\n",
       " '__new__',\n",
       " '__reduce__',\n",
       " '__reduce_ex__',\n",
       " '__repr__',\n",
       " '__setattr__',\n",
       " '__sizeof__',\n",
       " '__str__',\n",
       " '__subclasshook__',\n",
       " '__weakref__']"
      ]
     },
     "execution_count": 2,
     "metadata": {},
     "output_type": "execute_result"
    }
   ],
   "source": [
    "# dir案例，获取对象的成员列表\n",
    "\n",
    "class A():\n",
    "    pass\n",
    "\n",
    "dir(A)"
   ]
  },
  {
   "cell_type": "markdown",
   "metadata": {},
   "source": [
    "# 2. 类的成员描述符（属性）\n",
    "## 对类的成员属性进行相关操作而创建的一种方式：\n",
    "    - get：获取\n",
    "    - set：修改或添加\n",
    "    - delete"
   ]
  },
  {
   "cell_type": "code",
   "execution_count": 23,
   "metadata": {},
   "outputs": [
    {
     "name": "stdout",
     "output_type": "stream",
     "text": [
      "Hai, my name is LIU YIN, and my age is 18.\n",
      "Hai, my name is WU XIN, and my age is 24.\n"
     ]
    }
   ],
   "source": [
    "# 属性案例\n",
    "class Student():\n",
    "    def __init__(self,name,age):\n",
    "        self.name = name\n",
    "        self.age = age\n",
    "        \n",
    "        self.setName(name)\n",
    "        \n",
    "    def intro(self):\n",
    "        print(\"Hai, my name is {0}, and my age is {1}.\".format(self.name, self.age))\n",
    "        \n",
    "    def setName(self, name):\n",
    "        self.name = name.upper() #设定名字为大写\n",
    "        \n",
    "s1 = Student(\"LIU yin\", 18)\n",
    "s2 = Student(\"wu xin\", 24)\n",
    "\n",
    "s1.intro()\n",
    "s2.intro()\n"
   ]
  },
  {
   "cell_type": "markdown",
   "metadata": {},
   "source": [
    "## 2.1 使用类的成员符\n"
   ]
  },
  {
   "cell_type": "code",
   "execution_count": 31,
   "metadata": {
    "collapsed": true
   },
   "outputs": [],
   "source": [
    "# property案例\n",
    "## 举例：姓名用大写方式保存，年龄用整数保存\n",
    "## x = property(fget, fset, fdel, doc)\n",
    "\n",
    "class Person():\n",
    "    #读取时调用功能\n",
    "    def fget(self):\n",
    "        return self._name * 2 \n",
    "    #赋值时调用功能\n",
    "    def fset(self, name):\n",
    "        self._name = name.upper() #所有姓名以大写形式保存\n",
    "        print(\"my name is {0}\".format(self.name))\n",
    "    #删除时调用功能\n",
    "    def fdel(self):\n",
    "        self.name = \"NoName\" \n",
    "        \n",
    "    name = property(fget,fset,fdel,\"对name进行以下操作\")"
   ]
  },
  {
   "cell_type": "code",
   "execution_count": 36,
   "metadata": {},
   "outputs": [
    {
     "name": "stdout",
     "output_type": "stream",
     "text": [
      "my name is TULINGTULING\n",
      "******************************\n",
      "TULINGTULING\n"
     ]
    }
   ],
   "source": [
    "p1 = Person()\n",
    "p1.name = \"Tuling\" #调用了fset赋值+fget读取的功能\n",
    "\n",
    "print(\"*\" * 30)\n",
    "\n",
    "print(p1.name) #调用了fget读取功能\n"
   ]
  },
  {
   "cell_type": "markdown",
   "metadata": {},
   "source": [
    "## 2.2 类的常用魔法方法\n",
    "- 不需要人为调用，基本是在特定的时刻自动触发"
   ]
  },
  {
   "cell_type": "code",
   "execution_count": 46,
   "metadata": {},
   "outputs": [
    {
     "name": "stdout",
     "output_type": "stream",
     "text": [
      "调用1\n",
      "调用2\n",
      "调用3\n"
     ]
    }
   ],
   "source": [
    "# __init__, __call__, __str__举例\n",
    "class  A():\n",
    "    def __init__(self, name = 0):\n",
    "        print(\"调用1\") #构造函数，自动调用\n",
    "        \n",
    "    def __call__(self):\n",
    "        print(\"调用2\") #对象当函数使用时触发\n",
    "        \n",
    "    def __str__(self):\n",
    "        return \"调用3\" #对象当字符串使用时触发\n",
    "    \n",
    "a = A() #构造函数自动调用__init__\n",
    "a() #一个未定义的函数，触发__call__\n",
    "print(a) #打印字符串时，触发__str__"
   ]
  },
  {
   "cell_type": "code",
   "execution_count": 56,
   "metadata": {},
   "outputs": [
    {
     "name": "stdout",
     "output_type": "stream",
     "text": [
      "NoName\n",
      "******************************\n",
      "没找到\n",
      "addr\n",
      "None\n"
     ]
    }
   ],
   "source": [
    "# __getattr__案例\n",
    "##访问一个不存在的属性触发\n",
    "\n",
    "class A():\n",
    "    name = \"NoName\"\n",
    "    age = 18\n",
    "    def __getattr__(self, name):\n",
    "        print(\"没找到\")\n",
    "        print(name)\n",
    "        \n",
    "a = A()\n",
    "print(a.name)\n",
    "\n",
    "print(\"*\" * 30)\n",
    "\n",
    "print(a.addr) #访问不存在的属性"
   ]
  },
  {
   "cell_type": "code",
   "execution_count": 59,
   "metadata": {},
   "outputs": [
    {
     "name": "stdout",
     "output_type": "stream",
     "text": [
      "{}\n",
      "设置属性：age\n"
     ]
    }
   ],
   "source": [
    "# __setattr__案例，对成员属性进行设置的时候触发\n",
    "## 作用：进行属性设置的时候进行验证或者修改\n",
    "## 注意：在该方法不能对属性直接进行赋值操作，否则死循环\n",
    "\n",
    "class Person():\n",
    "    def __init__(self):\n",
    "        pass\n",
    "    \n",
    "    def __setattr__(self, name, value):\n",
    "        print(\"设置属性：{0}\".format(name))\n",
    "        # 下面语句会导致问题，死循环\n",
    "        # self.name = value\n",
    "        # 为了避免死循环，规定统一调用父类魔法函数\n",
    "        super().__setattr__(name,value)\n",
    "\n",
    "p = Person()\n",
    "print(p.__dict__)\n",
    "p.age = 18"
   ]
  },
  {
   "cell_type": "code",
   "execution_count": 83,
   "metadata": {},
   "outputs": [
    {
     "name": "stdout",
     "output_type": "stream",
     "text": [
      "It's One.\n",
      "It's Two.\n",
      "哈哈，One会比Two大吗？\n",
      "False\n"
     ]
    }
   ],
   "source": [
    "# __gt__案例：进行大于判断的时候触发\n",
    "## 将第二个参数视为第二个对象（对比参数）\n",
    "\n",
    "class Student():\n",
    "    def __init__(self, name):\n",
    "        self.name = name\n",
    "        print(\"It's {0}.\".format(self.name)) #两个参数都会代入self.name\n",
    "        \n",
    "    def __gt__(self, obj): #第二个参数stu2会自动代入__gt__，作为对比参数obj\n",
    "        print(\"哈哈，{0}会比{1}大吗？\".format(self.name, obj.name))\n",
    "        return self.name > obj.name #初始参数与对比参数相比较，返回布尔值\n",
    "    \n",
    "stu1 = Student(\"One\")\n",
    "stu2 = Student(\"Two\")\n",
    "\n",
    "print(stu1 > stu2) #将stu2看为obj"
   ]
  },
  {
   "cell_type": "markdown",
   "metadata": {},
   "source": [
    "# 2.3 类和对象的三种方法\n",
    "- 实例方法\n",
    "    - 需要实例化对象才能用的方法，使用过程中可能需要截止对象的其他对象的方法完成\n",
    "    \n",
    "- 静态方法\n",
    "    - 不需要实例化，通过类直接访问\n",
    "    \n",
    "- 类方法\n",
    "    - 不需要实例化"
   ]
  },
  {
   "cell_type": "code",
   "execution_count": 1,
   "metadata": {},
   "outputs": [
    {
     "name": "stdout",
     "output_type": "stream",
     "text": [
      "<__main__.Person object at 0x7f2a3987ec50>\n",
      "Eating...\n",
      "********************\n",
      "<class '__main__.Person'>\n",
      "Playing...\n",
      "<class '__main__.Person'>\n",
      "Playing...\n",
      "********************\n",
      "Saying...\n",
      "Saying...\n"
     ]
    }
   ],
   "source": [
    "# 三种方法的案例\n",
    "class Person():\n",
    "    #实例化方法\n",
    "    def eat(self): #只有实例才能调用\n",
    "        print(self)\n",
    "        print(\"Eating...\")\n",
    "        \n",
    "    #类方法\n",
    "    ##类方法的第一个参数，一般命名为cls，区别于self\n",
    "    @classmethod #类似于一个申明(类方法)\n",
    "    def play(cls):\n",
    "        print(cls)\n",
    "        print(\"Playing...\")\n",
    "        \n",
    "    #静态方法\n",
    "    ##不需要用第一个参数表示自身或者类\n",
    "    @staticmethod #（静态方法）\n",
    "    def say():\n",
    "        print(\"Saying...\")\n",
    "\n",
    "yueyue = Person()\n",
    "\n",
    "# 实例方法\n",
    "yueyue.eat()\n",
    "print(\"*\" * 20)\n",
    "# 类方法\n",
    "Person.play() # 用类调用类方法\n",
    "yueyue.play() # 用实例调用类方法可以正常使用\n",
    "print(\"*\" * 20)\n",
    "#静态方法\n",
    "Person.say() #不需要用第一个参数表示自身或者类\n",
    "yueyue.say()"
   ]
  },
  {
   "cell_type": "markdown",
   "metadata": {},
   "source": [
    "# 2.4 类成员描述符"
   ]
  },
  {
   "cell_type": "code",
   "execution_count": 6,
   "metadata": {},
   "outputs": [
    {
     "name": "stdout",
     "output_type": "stream",
     "text": [
      "刘大拿\n"
     ]
    }
   ],
   "source": [
    "# 变量的三种用法\n",
    "\n",
    "class A():\n",
    "    def __init__(self):\n",
    "        self.name = \"haha\"\n",
    "        self.age = 18\n",
    "        \n",
    "a = A()\n",
    "# 属性的三种用法：赋值，读取，删除\n",
    "a.name = \"刘大拿\"\n",
    "print(a.name)"
   ]
  },
  {
   "cell_type": "code",
   "execution_count": 18,
   "metadata": {},
   "outputs": [
    {
     "name": "stdout",
     "output_type": "stream",
     "text": [
      "haha\n",
      "******************************\n",
      "我被读取了\n",
      "haha\n",
      "******************************\n",
      "执行赋值操作\n"
     ]
    }
   ],
   "source": [
    "# 类属性 property\n",
    "## 对变量除了普通的三种操作，还想增加一些附加的操作，可以通过property完成\n",
    "class A():\n",
    "    def __init__(self):\n",
    "        self.name = \"haha\"\n",
    "        self.age = 18\n",
    "    #此功能，是对类变量进行读取操作的时候应该执行的函数功能\n",
    "    def fget(self):\n",
    "        print(\"我被读取了\")\n",
    "        return self.name\n",
    "    #模拟的是对变量进行赋值操作的时候执行的功能\n",
    "    def fset(self, name):\n",
    "        print(\"执行赋值操作\")\n",
    "        self.name = \"图灵学院：\" + name\n",
    "    # fedl模拟的是删除变量\n",
    "    def fdel(self):\n",
    "        pass\n",
    "    \n",
    "    # property的四个参数顺序是固定的\n",
    "    # fget读取作用放第一个，fset写入放第二个，fdel放第三个\n",
    "    name2 = property(fget,fset,fdel, \"这是一个property例子\")\n",
    "    \n",
    "a = A()\n",
    "print(a.name) #普通读取操作\n",
    "print(\"*\" * 30)\n",
    "\n",
    "print(a.name2) #property增加的读取操作\n",
    "print(\"*\" * 30)\n",
    "\n",
    "a.name2 = \"TLXY\" #property增加的赋值操作"
   ]
  },
  {
   "cell_type": "markdown",
   "metadata": {},
   "source": [
    "## 2.5 抽象类"
   ]
  },
  {
   "cell_type": "code",
   "execution_count": 20,
   "metadata": {},
   "outputs": [
    {
     "name": "stdout",
     "output_type": "stream",
     "text": [
      "闻对方\n",
      "Kiss me\n"
     ]
    }
   ],
   "source": [
    "# 抽象:没有具体实现内容的方法称为抽象方法\n",
    "## 意义：在父类中没有具体规定实现内容，在子类中赋予了具体实现内容（独属于子类的实现内容），只有子类可实现\n",
    "\n",
    "class Animal():\n",
    "    \n",
    "    def sayHello(self):\n",
    "        pass\n",
    "    \n",
    "class Dog(Animal):\n",
    "    \n",
    "    def sayHello(self):\n",
    "        print(\"闻对方\")\n",
    "        \n",
    "class Person(Animal):\n",
    "    \n",
    "    def sayHello(self):\n",
    "        print(\"Kiss me\")\n",
    "        \n",
    "d = Dog()\n",
    "d.sayHello()\n",
    "\n",
    "p = Person()\n",
    "p.sayHello()\n"
   ]
  },
  {
   "cell_type": "code",
   "execution_count": 13,
   "metadata": {
    "collapsed": true
   },
   "outputs": [],
   "source": [
    "# 抽象类的实现\n",
    "## 抽象类可以包含抽象方法，也可以包含具体方法\n",
    "## 抽象类可以有方法也可以有属性\n",
    "## 抽象类不允许直接实例化\n",
    "## 必须继承才可以使用，且继承的子类必须实现所有继承来的抽象方法\n",
    "## 假定子类没有实现所有继承的抽象方法，则子类也不能被实例化\n",
    "## 抽象类的主要作用是设定类的标准，以便于开发的时候具有统一的规范\n",
    "\n",
    "import abc\n",
    "# 声明一个类并且指定当前类的元类\n",
    "class Human(metaclass=abc.ABCMeta): #定义抽象类固定写法\n",
    "\n",
    "    # 定义一个抽象的方法\n",
    "    @abc.abstractmethod\n",
    "    def smoking(self):\n",
    "        pass\n",
    "    \n",
    "    # 定义类抽象方法\n",
    "    @abc.abstractclassmethod\n",
    "    def drink():\n",
    "        pass\n",
    "    \n",
    "    # 定义静态抽象方法\n",
    "    @abc.abstractstaticmethod\n",
    "    def play():\n",
    "        pass\n",
    "    \n",
    "    def sleep(self):\n",
    "        print(\"Sleeping\")\n"
   ]
  },
  {
   "cell_type": "markdown",
   "metadata": {},
   "source": [
    "## 2.6 自定义类"
   ]
  },
  {
   "cell_type": "code",
   "execution_count": 12,
   "metadata": {},
   "outputs": [
    {
     "name": "stdout",
     "output_type": "stream",
     "text": [
      "benben,你好\n",
      "benben,你好\n"
     ]
    }
   ],
   "source": [
    "# 函数名可以当变量使用\n",
    "\n",
    "def sayHello(name):\n",
    "    print(\"{0},你好\".format(name))\n",
    "    \n",
    "sayHello(\"benben\")\n",
    "\n",
    "meinv = sayHello #把函数名赋值给另一个变量\n",
    "meinv(\"benben\") #变量执行了原函数"
   ]
  },
  {
   "cell_type": "code",
   "execution_count": 6,
   "metadata": {},
   "outputs": [
    {
     "name": "stdout",
     "output_type": "stream",
     "text": [
      "Saying\n",
      "******************************\n",
      "Saying\n",
      "******************************\n",
      "Saying\n"
     ]
    }
   ],
   "source": [
    "# 组装类例子 - 1\n",
    "## 可以定义类和函数，然后通过类直接赋值\n",
    "\n",
    "class A():\n",
    "    pass  #定义一个空类\n",
    "\n",
    "def say(self): #定义一个函数，非类的成员函数，函数名可以当变量用\n",
    "    print(\"Saying\")\n",
    "    \n",
    "say(9)\n",
    "print(\"*\" * 30)\n",
    "\n",
    "A.say = say\n",
    "a = A() # 实例化\n",
    "a.say() # 函数名可以当变量使用\n",
    "\n",
    "print(\"*\" * 30)\n",
    "# 上面这个例子相当于再组装一个类\n",
    "class B():\n",
    "    def say(self):\n",
    "        print(\"Saying\")\n",
    "        \n",
    "b = B()\n",
    "b.say()"
   ]
  },
  {
   "cell_type": "code",
   "execution_count": 15,
   "metadata": {},
   "outputs": [
    {
     "name": "stdout",
     "output_type": "stream",
     "text": [
      "Saying\n"
     ]
    }
   ],
   "source": [
    "# 组装类例子 - 2\n",
    "# 借助MethodType自己组装一个类\n",
    "from types import MethodType #固定写法，导入”方法类型“，让类可以实例化\n",
    "\n",
    "class A():\n",
    "    pass\n",
    "\n",
    "def say(self):\n",
    "        print(\"Saying\")\n",
    "    \n",
    "a = A() #空类A不能像这样直接实例化，否则报错，要借助函数say\n",
    "a.say = MethodType(say, A) #函数say和A本来是不绑定的，通过”方法类型“绑定在一起使用\n",
    "a.say()"
   ]
  },
  {
   "cell_type": "code",
   "execution_count": 20,
   "metadata": {},
   "outputs": [
    {
     "name": "stdout",
     "output_type": "stream",
     "text": [
      "Saying\n",
      "Talking\n"
     ]
    }
   ],
   "source": [
    "# 组装类例子 - 3\n",
    "# 利用type造一个类\n",
    "\n",
    "# 先定义类应该具有的成员函数\n",
    "def say(self):\n",
    "    print(\"Saying\")\n",
    "    \n",
    "def talk(self):\n",
    "    print(\"Talking\")\n",
    "    \n",
    "# 用type来创建一个类\n",
    "#A没有父类，写入object类，由于object是元祖要写成（object， ）\n",
    "#赋予函数say和函数talk类的功能\n",
    "A = type(\"AName\", (object, ),{\"class_say\":say, \"class_talk\":talk}) \n",
    "\n",
    "# 然后可以像正常访问一样使用类\n",
    "a = A()\n",
    "\n",
    "a.class_say()\n",
    "a.class_talk()"
   ]
  },
  {
   "cell_type": "code",
   "execution_count": 30,
   "metadata": {},
   "outputs": [
    {
     "name": "stdout",
     "output_type": "stream",
     "text": [
      "我是元类\n",
      "******************************\n"
     ]
    },
    {
     "data": {
      "text/plain": [
       "'Beijing'"
      ]
     },
     "execution_count": 30,
     "metadata": {},
     "output_type": "execute_result"
    }
   ],
   "source": [
    "# 利用元类实现自定义类：MetaClass\n",
    "# 元类的写法是固定的，必须继承子type\n",
    "## 元类是类，被用来创造别的类\n",
    "\n",
    "\n",
    "class TulingMetaClass(type): # 元类一般命名以MetaClass结尾\n",
    "    def __new__(cls, name, bases, attrs): #魔法函数，注意写法\n",
    "        # 自己的业务处理\n",
    "        print(\"我是元类\")\n",
    "        attrs['id'] = '0000' # 增加统一属性\n",
    "        attrs['addr'] = 'Beijing'\n",
    "        return type.__new__(cls, name, bases, attrs)\n",
    "    \n",
    "# 元类定义完就可以使用，使用注意写法\n",
    "class Teacher(object, metaclass=TulingMetaClass):\n",
    "    pass\n",
    "\n",
    "t = Teacher()\n",
    "t.id"
   ]
  }
 ],
 "metadata": {
  "kernelspec": {
   "display_name": "Python 3",
   "language": "python",
   "name": "python3"
  },
  "language_info": {
   "codemirror_mode": {
    "name": "ipython",
    "version": 3
   },
   "file_extension": ".py",
   "mimetype": "text/x-python",
   "name": "python",
   "nbconvert_exporter": "python",
   "pygments_lexer": "ipython3",
   "version": "3.6.3"
  }
 },
 "nbformat": 4,
 "nbformat_minor": 2
}

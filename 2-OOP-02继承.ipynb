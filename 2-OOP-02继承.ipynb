{
 "cells": [
  {
   "cell_type": "code",
   "execution_count": 5,
   "metadata": {},
   "outputs": [
    {
     "name": "stdout",
     "output_type": "stream",
     "text": [
      "NoName\n",
      "25\n"
     ]
    }
   ],
   "source": [
    "# 继承的用法\n",
    "class Person():\n",
    "    name = \"NoName\"\n",
    "    age = 18\n",
    "    __score = 59 #考试成绩设为私有变量\n",
    "    _petname = \"sec\" #小名设为保护的值，子类可以调用\n",
    "    def sleep(self):\n",
    "        print(\"Sleeping...\")\n",
    "        \n",
    "        \n",
    "#子类继承父类，将父类写在括号里\n",
    "class Teacher(Person):\n",
    "    teacher_id = \"9527\"\n",
    "    age = 25\n",
    "    def make_test(self):\n",
    "        print(\"attention\")\n",
    "\n",
    "#测试通过子类访问父类变量\n",
    "t = Teacher()\n",
    "print(t.name)\n",
    "#print(t.__score)父类私有值无法访问\n",
    "print(t.age) #子类中重新赋值age，优先调用子类"
   ]
  },
  {
   "cell_type": "code",
   "execution_count": null,
   "metadata": {
    "collapsed": true
   },
   "outputs": [],
   "source": [
    "# 子类扩充父类功能\n",
    "class Person():\n",
    "    name = \"NoName\"\n",
    "    age = 18\n",
    "    __score = 59 \n",
    "    _petname = \"sec\" \n",
    "    def sleep(self):\n",
    "        print(\"Sleeping...\")\n",
    "    def work(self):\n",
    "        print(\"make some moner\")\n",
    "        \n",
    "class Teacher(Person):\n",
    "    teacher_id = \"9527\"\n",
    "    age = 25\n",
    "    def make_test(self):\n",
    "        print(\"attention\")\n",
    "# 扩充父类的功能只需要调用父类相应的函数       \n",
    "    def work(self):\n",
    "        Person.work(self)\n",
    "        self.make_test()\n",
    "        \n",
    "t = Teacher()\n",
    "t.work()"
   ]
  }
 ],
 "metadata": {
  "kernelspec": {
   "display_name": "Python 3",
   "language": "python",
   "name": "python3"
  },
  "language_info": {
   "codemirror_mode": {
    "name": "ipython",
    "version": 3
   },
   "file_extension": ".py",
   "mimetype": "text/x-python",
   "name": "python",
   "nbconvert_exporter": "python",
   "pygments_lexer": "ipython3",
   "version": "3.6.3"
  }
 },
 "nbformat": 4,
 "nbformat_minor": 2
}

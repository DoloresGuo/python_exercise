{
 "cells": [
  {
   "cell_type": "markdown",
   "metadata": {},
   "source": [
    "# 汉诺塔问题\n",
    "这个代码理解有困难需要记忆，字母顺序不能弄错"
   ]
  },
  {
   "cell_type": "code",
   "execution_count": 36,
   "metadata": {},
   "outputs": [
    {
     "name": "stdout",
     "output_type": "stream",
     "text": [
      "A --> C\n"
     ]
    }
   ],
   "source": [
    "def hano(n,a,b,c):\n",
    "    \"\"\"\n",
    "    n 为盘子个数\n",
    "    a 为第一个塔\n",
    "    b 为第二个塔\n",
    "    c 为第三个塔\n",
    "    \"\"\"\n",
    "    if n == 1:\n",
    "        print(a, \"-->\", c)\n",
    "        return None\n",
    "    \n",
    "    if n == 2:\n",
    "        print(a, \"-->\", b)\n",
    "        print(a, \"-->\", c)\n",
    "        print(b, \"-->\", c)\n",
    "        return None\n",
    "    #把n-1个盘子，从a塔借助于c塔，挪到b塔上去\n",
    "    hano(n-1, a, c, b) \n",
    "    print(a, \"-->\", c)\n",
    "    #把n-1个盘子，从b塔借助于a塔，挪到c塔上去\n",
    "    hano(n-1, b, a, c) \n",
    "    \n",
    "a = \"A\"\n",
    "b = \"B\"\n",
    "c = \"C\"\n",
    "\n",
    "n = 1\n",
    "hano(n, a, b, c)"
   ]
  },
  {
   "cell_type": "code",
   "execution_count": 37,
   "metadata": {},
   "outputs": [
    {
     "name": "stdout",
     "output_type": "stream",
     "text": [
      "A --> B\n",
      "A --> C\n",
      "B --> C\n"
     ]
    }
   ],
   "source": [
    "n = 2\n",
    "hano(n, a, b, c)"
   ]
  },
  {
   "cell_type": "code",
   "execution_count": 38,
   "metadata": {},
   "outputs": [
    {
     "name": "stdout",
     "output_type": "stream",
     "text": [
      "A --> C\n",
      "A --> B\n",
      "C --> B\n",
      "A --> C\n",
      "B --> A\n",
      "B --> C\n",
      "A --> C\n"
     ]
    }
   ],
   "source": [
    "n = 3\n",
    "hano(n, a, b, c)"
   ]
  },
  {
   "cell_type": "code",
   "execution_count": 39,
   "metadata": {},
   "outputs": [
    {
     "name": "stdout",
     "output_type": "stream",
     "text": [
      "A --> C\n",
      "A --> B\n",
      "C --> B\n",
      "A --> C\n",
      "B --> A\n",
      "B --> C\n",
      "A --> C\n",
      "A --> B\n",
      "C --> B\n",
      "C --> A\n",
      "B --> A\n",
      "C --> B\n",
      "A --> C\n",
      "A --> B\n",
      "C --> B\n",
      "A --> C\n",
      "B --> A\n",
      "B --> C\n",
      "A --> C\n",
      "B --> A\n",
      "C --> B\n",
      "C --> A\n",
      "B --> A\n",
      "B --> C\n",
      "A --> C\n",
      "A --> B\n",
      "C --> B\n",
      "A --> C\n",
      "B --> A\n",
      "B --> C\n",
      "A --> C\n"
     ]
    }
   ],
   "source": [
    "n = 5\n",
    "hano(n, a, b, c)"
   ]
  },
  {
   "cell_type": "markdown",
   "metadata": {},
   "source": [
    "# List(列表)\n",
    "## 删除命令\n",
    "## 列表相加\n",
    "## 列表相乘\n",
    "## 成员资格运算(判断成员是否在list里)"
   ]
  },
  {
   "cell_type": "markdown",
   "metadata": {},
   "source": [
    "# 链表的遍历\n",
    "    - for\n",
    "    - range\n",
    "    - while\n",
    "    - 双层列表循环"
   ]
  },
  {
   "cell_type": "markdown",
   "metadata": {},
   "source": [
    "# 列表内涵 list content\n",
    "## 通过简单方法创作列表\n",
    "- for 创建\n",
    "- 对原list运算创建\n",
    "- 过滤原list中的元素创建\n",
    "- 列表生成式可以嵌套"
   ]
  },
  {
   "cell_type": "code",
   "execution_count": 51,
   "metadata": {},
   "outputs": [
    {
     "name": "stdout",
     "output_type": "stream",
     "text": [
      "[10, 20, 30, 40, 50]\n",
      "********************\n",
      "[1, 2, 3, 4, 5, 1, 2, 3, 4, 5, 1, 2, 3, 4, 5, 1, 2, 3, 4, 5, 1, 2, 3, 4, 5, 1, 2, 3, 4, 5, 1, 2, 3, 4, 5, 1, 2, 3, 4, 5, 1, 2, 3, 4, 5, 1, 2, 3, 4, 5]\n"
     ]
    }
   ],
   "source": [
    "# 对原list运算创建\n",
    "# 区别\n",
    "a = [1, 2, 3, 4, 5]\n",
    "b = [i*10 for i in a]\n",
    "print(b) #将a列表中的变量×10\n",
    "\n",
    "print(\"*\" * 20)\n",
    "a = [1, 2, 3, 4, 5]\n",
    "b = a * 10\n",
    "print(b) #将a列表中的变量重复10次"
   ]
  },
  {
   "cell_type": "code",
   "execution_count": 58,
   "metadata": {},
   "outputs": [
    {
     "ename": "SyntaxError",
     "evalue": "invalid syntax (<ipython-input-58-f35c085a7f8d>, line 8)",
     "output_type": "error",
     "traceback": [
      "\u001b[0;36m  File \u001b[0;32m\"<ipython-input-58-f35c085a7f8d>\"\u001b[0;36m, line \u001b[0;32m8\u001b[0m\n\u001b[0;31m    c = [m+n, for m in a, for n in b, if m+n < 250] #c列表是a列表元素与b列表相加后小于250的数\u001b[0m\n\u001b[0m                ^\u001b[0m\n\u001b[0;31mSyntaxError\u001b[0m\u001b[0;31m:\u001b[0m invalid syntax\n"
     ]
    }
   ],
   "source": [
    "# 过滤原list中的元素创建\n",
    "a = [i for i in range(1, 4)]\n",
    "print(a)\n",
    "\n",
    "b = [i for i in range(100,400) if i % 100 == 0] #b列表是100-400内整百的数\n",
    "print(b)\n",
    "\n",
    "c = [m+n, for m in a, for n in b, if m+n < 250] #c列表是a列表元素与b列表相加后小于250的数\n",
    "print(c) #bug:不用加\",\""
   ]
  },
  {
   "cell_type": "code",
   "execution_count": 60,
   "metadata": {},
   "outputs": [
    {
     "name": "stdout",
     "output_type": "stream",
     "text": [
      "[1, 2, 3]\n",
      "[100, 200, 300]\n",
      "[101, 201, 102, 202, 103, 203]\n"
     ]
    }
   ],
   "source": [
    "# 过滤原list中的元素创建\n",
    "a = [i for i in range(1, 4)]\n",
    "print(a)\n",
    "\n",
    "b = [i for i in range(100,400) if i % 100 == 0] #b列表是100-400内整百的数\n",
    "print(b)\n",
    "\n",
    "c = [m+n for m in a for n in b if m+n < 250] #c列表是a列表元素与b列表相加后小于250的数\n",
    "print(c) "
   ]
  },
  {
   "cell_type": "markdown",
   "metadata": {},
   "source": [
    "# 关于列表的常用函数\n",
    "    - len：求列表长度\n",
    "    - max：求列表中的最大值\n",
    "    - min：求列表中的最小值\n",
    "    - list：将其他格式的数据转换成list(被转换的数据要可迭代的)"
   ]
  }
 ],
 "metadata": {
  "kernelspec": {
   "display_name": "Python 3",
   "language": "python",
   "name": "python3"
  },
  "language_info": {
   "codemirror_mode": {
    "name": "ipython",
    "version": 3
   },
   "file_extension": ".py",
   "mimetype": "text/x-python",
   "name": "python",
   "nbconvert_exporter": "python",
   "pygments_lexer": "ipython3",
   "version": "3.6.3"
  }
 },
 "nbformat": 4,
 "nbformat_minor": 2
}
